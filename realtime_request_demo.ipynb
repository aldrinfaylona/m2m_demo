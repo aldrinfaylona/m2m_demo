{
 "cells": [
  {
   "cell_type": "markdown",
   "metadata": {},
   "source": [
    "## OOI Machine to Machine (M2M) Realtime Requests"
   ]
  },
  {
   "cell_type": "markdown",
   "metadata": {},
   "source": [
    "### Getting Started\n",
    "* Create a user account on ooinet.oceanobservatories.org\n",
    "* Log in\n",
    "* Navigate to the drop down menu screen in the top-right corner menu\n",
    "* Click on the \"User Profile\" element of the drop down.\n",
    "* Copy and save the following data from the user profile: API Username and API Token. The API Username is similar to “OOIAPI-QTULEV9STCAS55”. The API Token is similar to “YXP2Q2W4SOP”."
   ]
  },
  {
   "cell_type": "code",
   "execution_count": null,
   "metadata": {
    "collapsed": true
   },
   "outputs": [],
   "source": [
    "# specify your username and token\n",
    "username = 'API Username'\n",
    "token = 'API Token'"
   ]
  },
  {
   "cell_type": "markdown",
   "metadata": {},
   "source": [
    "In this example we will request pressure data from the Cabled Axial Base (RS03AXPS) - Shallow Profiler (SF03A) - CTD (2A-CTDPFA302) sensor.\n",
    "\n",
    "Reference Designator: RS03AXPS-SF03A-2A-CTDPFA302  \n",
    "Delivery Method: streamed  \n",
    "Stream: ctdpf_sbe43_sample  \n",
    "Parameter: seawater_pressure  \n",
    "\n",
    "A good resource for finding the information you will need to input below is the Data Team Portal at http://ooi.visualocean.net/"
   ]
  },
  {
   "cell_type": "code",
   "execution_count": 43,
   "metadata": {
    "collapsed": true
   },
   "outputs": [],
   "source": [
    "# specify your inputs\n",
    "sub_site = 'RS03AXPS'\n",
    "platform = 'SF03A'\n",
    "instrument = '2A-CTDPFA302'\n",
    "delivery_method = 'streamed'\n",
    "stream = 'ctdpf_sbe43_sample'\n",
    "parameter = 'seawater_pressure'"
   ]
  },
  {
   "cell_type": "code",
   "execution_count": 44,
   "metadata": {
    "collapsed": true
   },
   "outputs": [],
   "source": [
    "import datetime\n",
    "import time\n",
    "import requests\n",
    "import pprint\n",
    "from concurrent.futures import ThreadPoolExecutor"
   ]
  },
  {
   "cell_type": "code",
   "execution_count": 38,
   "metadata": {
    "collapsed": true
   },
   "outputs": [],
   "source": [
    "# setup\n",
    "BASE_URL = 'https://ooinet.oceanobservatories.org/api/m2m/12576/sensor/inv/'\n",
    "pool = ThreadPoolExecutor(1)\n",
    "ntp_epoch = datetime.datetime(1900, 1, 1)\n",
    "unix_epoch = datetime.datetime(1970, 1, 1)\n",
    "ntp_ordinal = ntp_epoch.toordinal()\n",
    "ntp_delta = (unix_epoch - ntp_epoch).total_seconds()"
   ]
  },
  {
   "cell_type": "code",
   "execution_count": 39,
   "metadata": {
    "collapsed": true
   },
   "outputs": [],
   "source": [
    "# basic functions\n",
    "def ntp_seconds_to_datetime(ntp_seconds):\n",
    "    return datetime.datetime.utcfromtimestamp(ntp_seconds - ntp_delta).replace(microsecond=0)\n",
    "\n",
    "def get_future_data(url, params, username, token):\n",
    "    auth = (username, token)\n",
    "    return pool.submit(requests.get, url, params=params, auth=auth)\n",
    "\n",
    "def extract_keys(data, keys, min_time):\n",
    "    rdict = {key: [] for key in keys}\n",
    "    for record in data:\n",
    "        if record['time'] <= min_time:\n",
    "            time_r = record['time']\n",
    "            time_r = ntp_seconds_to_datetime(time_r)\n",
    "            time_r = time_r.strftime(\"%Y-%m-%d %H:%M:%S.000Z\")\n",
    "            print 'No new data found since ' + str(time_r) + '. Sending new request.'\n",
    "            continue\n",
    "        for key in keys:\n",
    "            rdict[key].append(record[key])\n",
    "    print 'Found %d new data points after filtering' % len(rdict['time'])\n",
    "    return rdict\n"
   ]
  },
  {
   "cell_type": "markdown",
   "metadata": {},
   "source": [
    "The following script is the main script. It will execute 10 requests, but if put into a while loop it can execute data requests indefinitely. See comments for explanations in line. The data response in json format contains all parameters under the input data stream, however, only prints out the values for the input parameter and corresponding timestamp."
   ]
  },
  {
   "cell_type": "code",
   "execution_count": 63,
   "metadata": {
    "collapsed": true
   },
   "outputs": [],
   "source": [
    "def requestNow(username, token, sub_site, platform, instrument, delivery_method, stream, parameter):\n",
    "    \n",
    "    # create the base url\n",
    "    request_url = '/'.join((BASE_URL, sub_site, platform, instrument, delivery_method, stream))\n",
    "    \n",
    "    # specify parameters which will be used in the get_future_data function. with each new request\n",
    "    # being sent, only the beginDT will change. it will be set to the time stamp of the last data point received.\n",
    "    # notice that there is no endDT specified, as a request with a beginDT and no endDT will return everything \n",
    "    # from beginDT until present, up to 1000 data points.\n",
    "    params = {\n",
    "        'beginDT': None,\n",
    "        'limit': 1000,\n",
    "        'user': 'realtime',\n",
    "    }\n",
    "    \n",
    "    # start with the last 10 seconds of data from present time\n",
    "    begin_time = datetime.datetime.utcnow() - datetime.timedelta(seconds=10)\n",
    "    \n",
    "    # last_time will be assigned as the time stamp of the last data point received once the first\n",
    "    # request is sent\n",
    "    last_time = 0\n",
    "    \n",
    "    for i in range(10): # replace with `while True:` to enter an endless data request loop\n",
    "        \n",
    "        parameter_values = []\n",
    "        time_values = []\n",
    "        \n",
    "        # update beginDT for this request\n",
    "        begin_time_str = begin_time.strftime('%Y-%m-%dT%H:%M:%S.000Z')\n",
    "        params['beginDT'] = begin_time_str\n",
    "\n",
    "        # send request in thread\n",
    "        data_future = get_future_data(request_url, params, username, token)\n",
    "        \n",
    "        # poll until complete\n",
    "        while not data_future.done:\n",
    "            # while request not complete, yield control to event loop\n",
    "            time.sleep(0.1)\n",
    "\n",
    "        # request complete, if not 200, log error and try again\n",
    "        response = data_future.result()\n",
    "        if response.status_code != 200:\n",
    "            print 'Error fetching data', response.text\n",
    "            time.sleep(0.1)\n",
    "            continue\n",
    "        \n",
    "        # store json response\n",
    "        data = response.json()\n",
    "        \n",
    "        # use extract_keys function to inform users about whether or not data is being returned. \n",
    "        # parse data in json response for input parameter and corresponding timestamp\n",
    "        data = extract_keys(data, ['time', parameter], min_time=last_time)\n",
    "\n",
    "        # if no data is returned, try again\n",
    "        if not data['time']:\n",
    "            time.sleep(0.1)\n",
    "            continue\n",
    "\n",
    "        # set beginDT to time stamp of last data point returned\n",
    "        last_time = data['time'][-1]\n",
    "        begin_time = ntp_seconds_to_datetime(last_time)\n",
    "\n",
    "        # print data points returned\n",
    "        print \"\\n\"\n",
    "        pprint.pprint(data)\n",
    "        print \"\\n\"\n",
    "        "
   ]
  },
  {
   "cell_type": "code",
   "execution_count": 64,
   "metadata": {
    "collapsed": false
   },
   "outputs": [
    {
     "name": "stdout",
     "output_type": "stream",
     "text": [
      "Found 7 new data points after filtering\n",
      "\n",
      "\n",
      "{'seawater_pressure': [47.90870860074877,\n",
      "                       47.88517629075554,\n",
      "                       47.85736538556815,\n",
      "                       47.83062373315278,\n",
      "                       47.812440092344396,\n",
      "                       47.80602219484076,\n",
      "                       47.811370037570484],\n",
      " 'time': [3709487730.1028037,\n",
      "          3709487731.102813,\n",
      "          3709487732.1029267,\n",
      "          3709487733.1032495,\n",
      "          3709487734.1032586,\n",
      "          3709487735.102853,\n",
      "          3709487736.102863]}\n",
      "\n",
      "\n",
      "No new data found since 2017-07-19 21:15:36.000Z. Sending new request.\n",
      "Found 0 new data points after filtering\n",
      "No new data found since 2017-07-19 21:15:36.000Z. Sending new request.\n",
      "Found 0 new data points after filtering\n",
      "No new data found since 2017-07-19 21:15:36.000Z. Sending new request.\n",
      "Found 5 new data points after filtering\n",
      "\n",
      "\n",
      "{'seawater_pressure': [47.8263451338373,\n",
      "                       47.84880778213796,\n",
      "                       47.871270837265016,\n",
      "                       47.889454892190415,\n",
      "                       47.90015180174833],\n",
      " 'time': [3709487737.1032887,\n",
      "          3709487738.103611,\n",
      "          3709487739.102893,\n",
      "          3709487740.1033187,\n",
      "          3709487741.1033297]}\n",
      "\n",
      "\n",
      "No new data found since 2017-07-19 21:15:41.000Z. Sending new request.\n",
      "Found 0 new data points after filtering\n",
      "No new data found since 2017-07-19 21:15:41.000Z. Sending new request.\n",
      "Found 0 new data points after filtering\n",
      "No new data found since 2017-07-19 21:15:41.000Z. Sending new request.\n",
      "Found 0 new data points after filtering\n",
      "No new data found since 2017-07-19 21:15:41.000Z. Sending new request.\n",
      "Found 5 new data points after filtering\n",
      "\n",
      "\n",
      "{'seawater_pressure': [47.9076393550337,\n",
      "                       47.904430403562,\n",
      "                       47.89266384337801,\n",
      "                       47.87234008537782,\n",
      "                       47.84452918210079],\n",
      " 'time': [3709487742.103029,\n",
      "          3709487743.1032457,\n",
      "          3709487744.103255,\n",
      "          3709487745.102953,\n",
      "          3709487746.103379]}\n",
      "\n",
      "\n",
      "No new data found since 2017-07-19 21:15:46.000Z. Sending new request.\n",
      "Found 0 new data points after filtering\n",
      "No new data found since 2017-07-19 21:15:46.000Z. Sending new request.\n",
      "Found 0 new data points after filtering\n"
     ]
    }
   ],
   "source": [
    "requestNow(username, token, sub_site, platform, instrument, delivery_method, stream, parameter)"
   ]
  },
  {
   "cell_type": "code",
   "execution_count": null,
   "metadata": {
    "collapsed": true
   },
   "outputs": [],
   "source": []
  }
 ],
 "metadata": {
  "kernelspec": {
   "display_name": "Python 2",
   "language": "python",
   "name": "python2"
  },
  "language_info": {
   "codemirror_mode": {
    "name": "ipython",
    "version": 2
   },
   "file_extension": ".py",
   "mimetype": "text/x-python",
   "name": "python",
   "nbconvert_exporter": "python",
   "pygments_lexer": "ipython2",
   "version": "2.7.13"
  }
 },
 "nbformat": 4,
 "nbformat_minor": 2
}
